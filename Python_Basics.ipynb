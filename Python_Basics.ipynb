{
  "nbformat": 4,
  "nbformat_minor": 0,
  "metadata": {
    "colab": {
      "provenance": []
    },
    "kernelspec": {
      "name": "python3",
      "display_name": "Python 3"
    },
    "language_info": {
      "name": "python"
    }
  },
  "cells": [
    {
      "cell_type": "markdown",
      "source": [
        "Python Basics Variable"
      ],
      "metadata": {
        "id": "8JzbyVOx1vjW"
      }
    },
    {
      "cell_type": "code",
      "execution_count": 2,
      "metadata": {
        "colab": {
          "base_uri": "https://localhost:8080/"
        },
        "id": "M7wVrf4UwKgB",
        "outputId": "d6bcb84c-5ca2-4537-809a-e10401d68010"
      },
      "outputs": [
        {
          "output_type": "stream",
          "name": "stdout",
          "text": [
            "x: 20\n",
            "y: 10\n"
          ]
        }
      ],
      "source": [
        "'''Ques:1- Declare two variables, `x` and `y`, and assign them integer values. Swap the\n",
        "values of these variables without using any temporary variable.'''\n",
        "#Declare two variables\n",
        "x = 10\n",
        "y  =20\n",
        "\n",
        "#Swap these value without using any temporary variables\n",
        "x,y = y,x\n",
        "\n",
        "#Print the variables value\n",
        "print(\"x:\",x)\n",
        "print(\"y:\",y)"
      ]
    },
    {
      "cell_type": "code",
      "source": [
        "'''Ques:2 - Create a program that calculates the area of a rectangle. Take the length and\n",
        "width as inputs from the user and store them in variables. Calculate and\n",
        "display the area.'''\n",
        "\n",
        "#creating variables length and width and taking input from user\n",
        "length = float(input(\"Enter the length of rectangle:\"))\n",
        "width = float(input(\"Enter the width of rectangle:\"))\n",
        "\n",
        "#Area of rectangle\n",
        "area = length * width\n",
        "\n",
        "#Display the area\n",
        "print(\"Area of rectangle is:\",area)"
      ],
      "metadata": {
        "colab": {
          "base_uri": "https://localhost:8080/"
        },
        "id": "BVITbP8kxzIT",
        "outputId": "0b47325a-1249-4f04-8555-a1f3b732e934"
      },
      "execution_count": 5,
      "outputs": [
        {
          "output_type": "stream",
          "name": "stdout",
          "text": [
            "Enter the length of rectangle:637\n",
            "Enter the width of rectangle:3783\n",
            "Area of rectangle is: 2409771.0\n"
          ]
        }
      ]
    },
    {
      "cell_type": "code",
      "source": [
        "'''Ques:3 - Write a Python program that converts temperatures from Celsius to\n",
        "Fahrenheit. Take the temperature in Celsius as input, store it in a variable,\n",
        "convert it to Fahrenheit, and display the result.'''\n",
        "\n",
        "#create temp variable taking user input\n",
        "temp = float(input(\"Enter temperature in celsius: \"))\n",
        "\n",
        "#converion of temperature celsius to fahrenheit\n",
        "fahrenheit = (temp * 9/5) + 32\n",
        "\n",
        "#Display the temperature\n",
        "print(\"temperature in fehrenheit is:\",fahrenheit)"
      ],
      "metadata": {
        "colab": {
          "base_uri": "https://localhost:8080/"
        },
        "id": "_4ChS2KdzM4D",
        "outputId": "b95a7883-3332-4d74-83fd-8589460f296d"
      },
      "execution_count": 7,
      "outputs": [
        {
          "output_type": "stream",
          "name": "stdout",
          "text": [
            "Enter temperature in celsius: 78\n",
            "temperature in fehrenheit is: 172.4\n"
          ]
        }
      ]
    },
    {
      "cell_type": "markdown",
      "source": [
        "String Based Questions"
      ],
      "metadata": {
        "id": "z9Nmhyvv1oi9"
      }
    },
    {
      "cell_type": "code",
      "source": [
        "'''QUES:1 -Write a Python program that takes a string as input and prints the length of\n",
        "the string.'''\n",
        "#crating a variable taking input from user\n",
        "a = \"There are lot of student in my college\"\n",
        "\n",
        "#length of string\n",
        "len(a)"
      ],
      "metadata": {
        "colab": {
          "base_uri": "https://localhost:8080/"
        },
        "id": "ARhlwkES1uEA",
        "outputId": "6fec5750-3b2b-4227-e52f-9172e5d84535"
      },
      "execution_count": 9,
      "outputs": [
        {
          "output_type": "execute_result",
          "data": {
            "text/plain": [
              "38"
            ]
          },
          "metadata": {},
          "execution_count": 9
        }
      ]
    },
    {
      "cell_type": "code",
      "source": [
        "'''Ques:2- Create a program that takes a sentence from the user and counts the number\n",
        "of vowels (a, e, i, o, u) in the string.'''\n",
        "# Take input from the user\n",
        "sentence = input(\"Enter a sentence: \")\n",
        "\n",
        "# Define vowels\n",
        "vowels = \"aeiouAEIOU\"\n",
        "\n",
        "# Use a sum with a generator expression to count vowels\n",
        "vowel_count = sum(sentence.count(vowel) for vowel in vowels)\n",
        "\n",
        "# Display the result\n",
        "print(\"The number of vowels in the sentence is: \",vowel_count)"
      ],
      "metadata": {
        "colab": {
          "base_uri": "https://localhost:8080/"
        },
        "id": "867oUo6c2ZHa",
        "outputId": "b9238a10-37ce-432a-b630-84dc9cab9603"
      },
      "execution_count": 19,
      "outputs": [
        {
          "output_type": "stream",
          "name": "stdout",
          "text": [
            "Enter a sentence: hello\n",
            "The number of vowels in the sentence is:  2\n"
          ]
        }
      ]
    },
    {
      "cell_type": "code",
      "source": [
        "'''Ques:3- Given a string, reverse the order of characters using string slicing and print\n",
        "the reversed string.'''\n",
        "\n",
        "#Creating a variables\n",
        "a = \"pwskillls\"\n",
        "\n",
        "#reverse the string\n",
        "a[::-1]"
      ],
      "metadata": {
        "colab": {
          "base_uri": "https://localhost:8080/",
          "height": 35
        },
        "id": "HemIJqps4W0w",
        "outputId": "bd639ba4-a8f5-4082-ce0a-71778eb49338"
      },
      "execution_count": 20,
      "outputs": [
        {
          "output_type": "execute_result",
          "data": {
            "text/plain": [
              "'slllikswp'"
            ],
            "application/vnd.google.colaboratory.intrinsic+json": {
              "type": "string"
            }
          },
          "metadata": {},
          "execution_count": 20
        }
      ]
    },
    {
      "cell_type": "code",
      "source": [
        "'''Ques:4 - Write a program that takes a string as input and checks if it is a palindrome\n",
        "(reads the same forwards and backwards).'''\n",
        "\n",
        "#Taking a string from user\n",
        "a = input(\"Enter the string:\")\n",
        "\n",
        "#remove space using replace method\n",
        "b = a.replace(\" \",\"\").lower()\n",
        "\n",
        "if  b == b[::-1]:\n",
        "  print(\"Input string is palindrome\")\n",
        "\n",
        "else:\n",
        "  print(\"Input string is not palindrome\")"
      ],
      "metadata": {
        "colab": {
          "base_uri": "https://localhost:8080/"
        },
        "id": "0lnHyX1u-RbZ",
        "outputId": "e766e92d-2bb2-47a5-a3d4-ea89c50a166b"
      },
      "execution_count": 24,
      "outputs": [
        {
          "output_type": "stream",
          "name": "stdout",
          "text": [
            "Enter the string:hello\n",
            "Input string is not palindrome\n"
          ]
        }
      ]
    },
    {
      "cell_type": "code",
      "source": [
        "'''Ques:5 -Create a program that takes a string as input and removes all the spaces from\n",
        "it. Print the modified string without spaces.'''\n",
        "\n",
        "#taking input from user as string\n",
        "a = input(\"Enter the string:\")\n",
        "\n",
        "b = a.replace(\" \",\"\")\n",
        "#Display the output\n",
        "print(\"modified string are:\",b)\n"
      ],
      "metadata": {
        "colab": {
          "base_uri": "https://localhost:8080/"
        },
        "id": "QDAS0itb_WOK",
        "outputId": "41b8e5a1-d81f-4b13-d98b-a16284cc15a2"
      },
      "execution_count": 31,
      "outputs": [
        {
          "output_type": "stream",
          "name": "stdout",
          "text": [
            "Enter the string:thele ather  atherhawle\n",
            "modified string are: theleatheratherhawle\n"
          ]
        }
      ]
    },
    {
      "cell_type": "code",
      "source": [],
      "metadata": {
        "id": "JuNXsO70CGAt"
      },
      "execution_count": null,
      "outputs": []
    }
  ]
}